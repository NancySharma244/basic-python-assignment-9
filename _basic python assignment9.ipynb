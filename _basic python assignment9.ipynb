{
 "cells": [
  {
   "cell_type": "markdown",
   "id": "45723333",
   "metadata": {},
   "source": [
    "1. To what does a relative path refer?\n",
    "   A relative path refers to a location that is relative to a current directory."
   ]
  },
  {
   "cell_type": "markdown",
   "id": "55dc58af",
   "metadata": {},
   "source": [
    "2. What does an absolute path start with your operating system?\n",
    "   An absolute path starts to the complete details needed to locate a file or folder, starting from the root element."
   ]
  },
  {
   "cell_type": "markdown",
   "id": "adcfb35b",
   "metadata": {},
   "source": [
    "3. What do the functions os.getcwd() and os.chdir() do?\n",
    "    We use the os. getcwd() method to extract the current working directory and  We use the chdir(path) method to change       the current working directory."
   ]
  },
  {
   "cell_type": "markdown",
   "id": "829851f3",
   "metadata": {},
   "source": [
    "4. What are the . and .. folders?\n",
    "   A directory or folder is a collection of files and subdirectories."
   ]
  },
  {
   "cell_type": "markdown",
   "id": "e0eb7a26",
   "metadata": {},
   "source": [
    "5. In C:\\bacon\\eggs\\spam.txt, which part is the dir name, and which part is the base name?\n",
    "   C:\\bacon\\eggs is the dir name, while spam. txt is the base name."
   ]
  },
  {
   "cell_type": "markdown",
   "id": "521a480a",
   "metadata": {},
   "source": [
    "6. What are the three “mode” arguments that can be passed to the open() function?\n",
    "   r - open a file in read mode. w - opens or create a text file in write mode. r+ - opens a file in both read and write      mode."
   ]
  },
  {
   "cell_type": "markdown",
   "id": "e3fdb34d",
   "metadata": {},
   "source": [
    "7. What happens if an existing file is opened in write mode?\n",
    "   fopen() for an existing file in write mode,\n",
    "   When mode “w” is specified, it creates an empty file for output operations."
   ]
  },
  {
   "cell_type": "markdown",
   "id": "ab463b37",
   "metadata": {},
   "source": [
    "8. How do you tell the difference between read() and readlines()?\n",
    "   The read() method returns the specified number of bytes from the file. Default is -1 which means the whole file and  \n",
    "   The readline() method returns one line from the file. You can also specified how many bytes from the line to return, by    using the size parameter."
   ]
  },
  {
   "cell_type": "markdown",
   "id": "5c161ff0",
   "metadata": {},
   "source": [
    "9. What data structure does a shelf value resemble?\n",
    "   A shelf value resembles a dictionary value; it has keys and values, along with keys() and values() methods that work        similarly to the dictionary methods of the same names."
   ]
  }
 ],
 "metadata": {
  "kernelspec": {
   "display_name": "Python 3 (ipykernel)",
   "language": "python",
   "name": "python3"
  },
  "language_info": {
   "codemirror_mode": {
    "name": "ipython",
    "version": 3
   },
   "file_extension": ".py",
   "mimetype": "text/x-python",
   "name": "python",
   "nbconvert_exporter": "python",
   "pygments_lexer": "ipython3",
   "version": "3.9.7"
  }
 },
 "nbformat": 4,
 "nbformat_minor": 5
}
